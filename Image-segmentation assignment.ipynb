{
 "cells": [
  {
   "cell_type": "code",
   "execution_count": 1,
   "metadata": {
    "collapsed": true
   },
   "outputs": [],
   "source": [
    "import numpy as np\n",
    "import pandas as pd\n",
    "import sklearn\n",
    "from PIL import Image\n",
    "import matplotlib.pyplot as plt\n",
    "import matplotlib.mlab as mlab\n",
    "%matplotlib inline"
   ]
  },
  {
   "cell_type": "markdown",
   "metadata": {},
   "source": [
    "A function to pre-process the image. It takes in the image and the no_data_value as input and returns a histogram indicating pixel values along with the number of pixels"
   ]
  },
  {
   "cell_type": "code",
   "execution_count": 2,
   "metadata": {
    "collapsed": true
   },
   "outputs": [],
   "source": [
    "def preprocessing(img,no_data_value):\n",
    "    image=Image.open(img)\n",
    "    image_array=np.array(image)\n",
    "    red=image_array[:,:,0] #extracting the red band\n",
    "    global flattened_img #declared global as it needs to be used in the next function\n",
    "    flattened_img = np.column_stack([red.flatten()])\n",
    "    flattened_img=np.ma.masked_values(flattened_img, no_data_value) #mask the no-data value\n",
    "    plt.title('Histogram for pixel value and intensity distribution')\n",
    "    plt.xlabel('Pixel values')\n",
    "    plt.ylabel('Number of pixels')\n",
    "    return plt.hist(flattened_img.compressed(),histtype='step')"
   ]
  },
  {
   "cell_type": "code",
   "execution_count": 3,
   "metadata": {},
   "outputs": [
    {
     "data": {
      "text/plain": [
       "(array([  834.,   211.,   314.,  2061.,  3971.,   783.,  1235.,   609.,\n",
       "           46.,     5.]),\n",
       " array([  64. ,   83.1,  102.2,  121.3,  140.4,  159.5,  178.6,  197.7,\n",
       "         216.8,  235.9,  255. ]),\n",
       " <a list of 1 Patch objects>)"
      ]
     },
     "execution_count": 3,
     "metadata": {},
     "output_type": "execute_result"
    },
    {
     "data": {
      "image/png": "[encoded data removed]",
      "text/plain": [
       "<matplotlib.figure.Figure at 0x1e41248ba90>"
      ]
     },
     "metadata": {},
     "output_type": "display_data"
    }
   ],
   "source": [
    "preprocessing('image.tif',0)"
   ]
  },
  {
   "cell_type": "markdown",
   "metadata": {},
   "source": [
    "The next function is used to perform K-means clustering. It takes in as input the number of clusters and returns the segmented image. "
   ]
  },
  {
   "cell_type": "code",
   "execution_count": 4,
   "metadata": {
    "collapsed": true
   },
   "outputs": [],
   "source": [
    "def segmentation(clusters):\n",
    "    from sklearn.cluster import KMeans\n",
    "    classifier = sklearn.cluster.KMeans(n_clusters=clusters)\n",
    "    predicted = classifier.fit_predict(flattened_img)\n",
    "    new_img = predicted.reshape((150,129))\n",
    "    plt.title('Segmented Image')\n",
    "    plt.imshow(new_img)\n",
    "    print('The shape of the new segmented image is of shape', new_img.shape)\n",
    "    return plt.show()"
   ]
  },
  {
   "cell_type": "code",
   "execution_count": 5,
   "metadata": {},
   "outputs": [
    {
     "name": "stdout",
     "output_type": "stream",
     "text": [
      "The shape of the new segmented image is of shape (150, 129)\n"
     ]
    },
    {
     "data": {
      "image/png": "[encoded data removed]",
      "text/plain": [
       "<matplotlib.figure.Figure at 0x1e414329cf8>"
      ]
     },
     "metadata": {},
     "output_type": "display_data"
    }
   ],
   "source": [
    "segmentation(4)"
   ]
  }
 ],
 "metadata": {
  "kernelspec": {
   "display_name": "Python 3",
   "language": "python",
   "name": "python3"
  },
  "language_info": {
   "codemirror_mode": {
    "name": "ipython",
    "version": 3
   },
   "file_extension": ".py",
   "mimetype": "text/x-python",
   "name": "python",
   "nbconvert_exporter": "python",
   "pygments_lexer": "ipython3",
   "version": "3.6.2"
  }
 },
 "nbformat": 4,
 "nbformat_minor": 2
}
